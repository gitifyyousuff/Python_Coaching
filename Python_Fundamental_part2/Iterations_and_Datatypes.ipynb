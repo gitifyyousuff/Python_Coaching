{
 "cells": [
  {
   "cell_type": "code",
   "execution_count": 2,
   "metadata": {},
   "outputs": [
    {
     "name": "stdout",
     "output_type": "stream",
     "text": [
      "[44, 8, 6, 93, 66, 77, 93, 93, 88]\n",
      "[44, 8, 93, 66, 77, 93, 93, 88, 23, 44, 56]\n",
      "8\n",
      "93\n",
      "685\n",
      "4\n"
     ]
    }
   ],
   "source": [
    "#Day3 starts\n",
    "#list\n",
    "l1 = [7,8,6,93,66,77,93,93]\n",
    "\n",
    "l2 = [10,True,10.88,\"python\"]\n",
    "\n",
    "# l1[0] = 99\n",
    "\n",
    "\n",
    "# list is mutable\n",
    "\n",
    "l1.append(88)\n",
    "\n",
    "\n",
    "l1.insert(1,44)\n",
    "\n",
    "\n",
    "l1.remove(7)\n",
    "print(l1)\n",
    "\n",
    "\n",
    "l1.pop(2)\n",
    "\n",
    "\n",
    "l1.extend([23,44,56])\n",
    "print(l1)\n",
    "\n",
    "print(min(l1))\n",
    "print(max(l1))\n",
    "print(sum(l1))\n",
    "print(len(l2))"
   ]
  },
  {
   "cell_type": "code",
   "execution_count": 5,
   "metadata": {},
   "outputs": [
    {
     "name": "stdout",
     "output_type": "stream",
     "text": [
      "5\n",
      "4\n",
      "5\n",
      "6\n",
      "9\n",
      "77\n",
      "Done\n"
     ]
    }
   ],
   "source": [
    "#for(enumeration,range,list)\n",
    "#type1 :list\n",
    "\n",
    "l1 = [4,5,6,9,77]\n",
    "\n",
    "print(len(l1))\n",
    "\n",
    "for spider_man in l1:\n",
    "    print(spider_man)\n",
    "    \n",
    "print(\"Done\")   \n",
    "   "
   ]
  },
  {
   "cell_type": "code",
   "execution_count": 4,
   "metadata": {},
   "outputs": [
    {
     "name": "stdout",
     "output_type": "stream",
     "text": [
      "0\n",
      "1\n",
      "2\n",
      "3\n",
      "4\n",
      "5\n",
      "6\n",
      "7\n",
      "8\n",
      "9\n",
      "20\n",
      "21\n",
      "22\n",
      "23\n",
      "24\n",
      "25\n",
      "26\n",
      "27\n",
      "28\n",
      "29\n",
      "30\n",
      "31\n",
      "32\n",
      "33\n",
      "34\n",
      "35\n",
      "36\n",
      "37\n",
      "38\n",
      "39\n",
      "40\n",
      "10\n",
      "13\n",
      "16\n",
      "19\n",
      "22\n",
      "25\n",
      "28\n",
      "31\n",
      "34\n",
      "37\n"
     ]
    }
   ],
   "source": [
    "#type2 is range\n",
    "#s1\n",
    "for i in range(10):\n",
    "    print(i)\n",
    "#s2\n",
    "for i in range(20,41):\n",
    "    print(i)\n",
    "#s3\n",
    "for i in range(10,40,3):\n",
    "    print(i)"
   ]
  },
  {
   "cell_type": "code",
   "execution_count": 20,
   "metadata": {},
   "outputs": [
    {
     "name": "stdout",
     "output_type": "stream",
     "text": [
      "0 4\n",
      "1 5\n",
      "2 6\n",
      "3 9\n",
      "4 77\n"
     ]
    }
   ],
   "source": [
    "#type3:enumerate\n",
    "l1 = [4,5,6,9,77]\n",
    "for i,elem in enumerate(l1):\n",
    "    print(i,elem)"
   ]
  },
  {
   "cell_type": "code",
   "execution_count": 21,
   "metadata": {},
   "outputs": [
    {
     "name": "stdout",
     "output_type": "stream",
     "text": [
      "4\n",
      "5\n",
      "6\n",
      "9\n",
      "77\n"
     ]
    }
   ],
   "source": [
    "for i in range(len(l1)):\n",
    "    print(l1[i])\n",
    "    "
   ]
  },
  {
   "cell_type": "code",
   "execution_count": 3,
   "metadata": {},
   "outputs": [
    {
     "name": "stdout",
     "output_type": "stream",
     "text": [
      "2\n",
      "3\n",
      "works\n"
     ]
    }
   ],
   "source": [
    "#while loop\n",
    "#infinte loop in while loop\n",
    "\n",
    "# while (True):\n",
    "#     print(1)\n",
    "\n",
    "i = 1\n",
    "while(i<=5):\n",
    "    print(i)\n",
    "    i += 1\n",
    "print(\"Completed\") \n",
    "\n",
    "j = 2\n",
    "while (True):\n",
    "    print(j)\n",
    "    j = j+1\n",
    "    if(j>3):\n",
    "        break\n",
    "    \n",
    "print(\"works\")\n",
    "\n",
    "\n"
   ]
  },
  {
   "cell_type": "code",
   "execution_count": 15,
   "metadata": {},
   "outputs": [
    {
     "name": "stdout",
     "output_type": "stream",
     "text": [
      "1\n",
      "2\n",
      "3\n",
      "4\n",
      "Bus\n",
      "6\n",
      "7\n",
      "8\n",
      "9\n",
      "Bus\n",
      "11\n",
      "12\n",
      "13\n",
      "14\n",
      "Bus\n",
      "16\n",
      "17\n",
      "18\n",
      "19\n",
      "Bus\n",
      "21\n",
      "22\n",
      "23\n",
      "24\n",
      "Bus\n",
      "26\n",
      "27\n",
      "28\n",
      "29\n",
      "Bus\n",
      "31\n",
      "32\n",
      "33\n",
      "34\n",
      "Bus\n",
      "36\n",
      "37\n",
      "38\n",
      "39\n",
      "Bus\n",
      "41\n",
      "42\n",
      "43\n",
      "44\n",
      "Bus\n",
      "46\n",
      "47\n",
      "48\n",
      "49\n",
      "Bus\n",
      "51\n",
      "52\n",
      "53\n",
      "54\n",
      "Bus\n",
      "56\n",
      "57\n",
      "58\n",
      "59\n",
      "Bus\n",
      "61\n",
      "62\n",
      "63\n",
      "64\n",
      "Bus\n",
      "66\n",
      "67\n",
      "68\n",
      "69\n",
      "Bus\n",
      "71\n",
      "72\n",
      "73\n",
      "74\n",
      "Bus\n",
      "76\n",
      "77\n",
      "78\n",
      "79\n",
      "Bus\n",
      "81\n",
      "82\n",
      "83\n",
      "84\n",
      "Bus\n",
      "86\n",
      "87\n",
      "88\n",
      "89\n",
      "Bus\n",
      "91\n",
      "92\n",
      "93\n",
      "94\n",
      "Bus\n",
      "96\n",
      "97\n",
      "98\n",
      "99\n",
      "Bus\n"
     ]
    }
   ],
   "source": [
    "#Design using while loop\n",
    "#1,2,3,4,bus,6,7,8,9,bus\n",
    "i = 0\n",
    "while(i<100):\n",
    "    i = i+1\n",
    "    if(i%5 == 0):\n",
    "        print(\"Bus\")\n",
    "        continue\n",
    "    print(i)\n",
    "        "
   ]
  },
  {
   "cell_type": "code",
   "execution_count": 45,
   "metadata": {},
   "outputs": [
    {
     "name": "stdout",
     "output_type": "stream",
     "text": [
      "50\n"
     ]
    }
   ],
   "source": [
    "# 3.1: Total 200 pens and 1 box can contain 4 pens .\n",
    "#     Totally how many box required to have all the pens?\n",
    "# Solve it using for loop\n",
    "pens = 200\n",
    "one_box = 4\n",
    "for i in range(pens):\n",
    "    if(one_box*i == 200):\n",
    "        print(i)"
   ]
  },
  {
   "cell_type": "code",
   "execution_count": 52,
   "metadata": {},
   "outputs": [
    {
     "name": "stdout",
     "output_type": "stream",
     "text": [
      "msg\n",
      "msg\n",
      "msg\n",
      "msg\n",
      "msg\n",
      "outside for loop\n"
     ]
    }
   ],
   "source": [
    "l1= 5\n",
    "for i in range(l1):\n",
    "    print(\"msg\")\n",
    "    \n",
    "print(\"outside for loop\")\n",
    "#Day3 ends"
   ]
  },
  {
   "cell_type": "code",
   "execution_count": 6,
   "metadata": {},
   "outputs": [
    {
     "name": "stdout",
     "output_type": "stream",
     "text": [
      "993\n",
      "100\n",
      "4\n",
      "6\n",
      "55\n",
      "88\n",
      "it is 88\n",
      "[66, 88, 88, 88, 77, 99]\n",
      "{66, 99, 77, 55, 88}\n",
      "{993, 100, 4, 6, 55, 88}\n",
      "{88, 66, 99, 77}\n",
      "{88}\n",
      "{88}\n",
      "{993, 66, 99, 100, 4, 6, 77, 55, 88}\n",
      "{993, 66, 99, 100, 4, 6, 77, 55, 88}\n"
     ]
    }
   ],
   "source": [
    "#day4 starts\n",
    "#set\n",
    "s1 = {100,993,4,6,88,55}\n",
    "# print((s1))\n",
    "#No sequence#unorder\n",
    "\n",
    "#Iteration in set\n",
    "for i in s1:\n",
    "    print(i)\n",
    "    if(i == 88):\n",
    "        print(\"it is 88\")\n",
    "\n",
    "#typecast\n",
    "# list --> set\n",
    "l1 = [66,88,88,88,77,99]\n",
    "s2 = set(l1)\n",
    "print(l1)\n",
    "\n",
    "# #set \n",
    "# #duplication\n",
    "s3 = {66,88,88,88,77,99}\n",
    "\n",
    "# #add\n",
    "s3.add(55)\n",
    "print(s3)\n",
    "\n",
    "# #frozenset\n",
    "s4 = {66,22,12,24}\n",
    "s5 = frozenset(s4)\n",
    "\n",
    "\n",
    "\n",
    "#operations\n",
    "s1.discard(45)\n",
    "print(s1)\n",
    "print(s2)\n",
    "\n",
    "print(s1&s2)#intersection\n",
    "print(s1.intersection(s2))\n",
    "\n",
    "print(s1|s2)#union\n",
    "print(s1.union(s2))  \n"
   ]
  },
  {
   "cell_type": "code",
   "execution_count": 8,
   "metadata": {},
   "outputs": [
    {
     "name": "stdout",
     "output_type": "stream",
     "text": [
      "(66, 88, 11, 21, 21)\n",
      "66\n",
      "88\n",
      "11\n",
      "21\n",
      "21\n",
      "11\n",
      "[66, 88, 11, 21, 21]\n",
      "(66, 88, 11, 31)\n"
     ]
    }
   ],
   "source": [
    "#tuple\n",
    "t1 = (66,88,11,21,21)\n",
    "print((t1))\n",
    "\n",
    "#Iteration in tuple\n",
    "for i in t1:\n",
    "    print(i)\n",
    "\n",
    "l1 = [66,88,11,21]\n",
    "\n",
    "\n",
    "# #Tuple is Immutable\n",
    "# # t1[3] = 31\n",
    "\n",
    "# #list is mutable\n",
    "l1[3] = 31\n",
    "\n",
    "# #Indexing\n",
    "print(t1[2])\n",
    "\n",
    "# #operations\n",
    "t1.count(21)\n",
    "\n",
    "\n",
    "# #typecast\n",
    "l2 = list(t1)\n",
    "print(l2)\n",
    "\n",
    "t3 = tuple(l1)\n",
    "print(t3)"
   ]
  },
  {
   "cell_type": "code",
   "execution_count": 11,
   "metadata": {},
   "outputs": [
    {
     "name": "stdout",
     "output_type": "stream",
     "text": [
      "No players with jersey no..\n",
      "{10: 'sachin', 7: 'dhoni'}\n",
      "(10, 'Sachin')\n",
      "(7, 'Dhoni')\n",
      "(18, ['faf', 'Kohli'])\n",
      "10\n",
      "7\n",
      "18\n",
      "[10, 7, 18]\n",
      "['Sachin', 'Dhoni', ['faf', 'Kohli']]\n",
      "keys:  10\n",
      "values:  Sachin\n",
      "keys:  7\n",
      "values:  Dhoni\n",
      "keys:  18\n",
      "values:  ['faf', 'Kohli']\n"
     ]
    }
   ],
   "source": [
    "#dict\n",
    "d1 = {10:\"Sachin\",7:\"Dhoni\",18:[\"faf\",\"Kohli\"]} \n",
    "# print(d1)\n",
    "\n",
    "\n",
    "# #operation\n",
    "\n",
    "# s = d1[11]\n",
    "# print(s)\n",
    "\n",
    "s = d1.get(21,\"No players with jersey no..\")\n",
    "print(s)\n",
    "\n",
    "#typecast\n",
    "l1 = [10,7]\n",
    "l2 = [\"sachin\",\"dhoni\"]\n",
    "\n",
    "d3 = dict(zip(l1,l2))\n",
    "print(d3)\n",
    "\n",
    "# #Iterations\n",
    "for i in d1.items():\n",
    "    print(i)\n",
    "\n",
    "for i in d1:\n",
    "    print(i)\n",
    "\n",
    "\n",
    "k1 = list(d1.keys())\n",
    "print(k1)\n",
    "v1 = list(d1.values())\n",
    "print(v1)\n",
    "\n",
    "\n",
    "for k,v in d1.items():\n",
    "    print(\"keys: \", k)\n",
    "    print(\"values: \", v)\n"
   ]
  },
  {
   "cell_type": "code",
   "execution_count": 91,
   "metadata": {},
   "outputs": [
    {
     "name": "stdout",
     "output_type": "stream",
     "text": [
      "{10: 'Sachin', 7: 'Dhoni', 18: ['faf', 'Kohli'], 66: 'ganguly', 99: 'Ashwin'}\n",
      "10\n",
      "7\n",
      "18\n",
      "66\n",
      "99\n"
     ]
    }
   ],
   "source": [
    "d1 = {10:\"Sachin\",7:\"Dhoni\",18:[\"faf\",\"Kohli\"]} \n",
    "d2 = {66:\"ganguly\",99:\"Ashwin\"} \n",
    "\n",
    "# for k in d1:\n",
    "#     print(k)\n",
    "    \n",
    "# for v in d1:\n",
    "#     print(d1[v])\n",
    "#step1:combine 2 dict\n",
    "d1.update(d2)\n",
    "print(d1)\n",
    "\n",
    "#step 2:normal iterations\n",
    "for i in d1:\n",
    "    print(i)"
   ]
  },
  {
   "cell_type": "code",
   "execution_count": 87,
   "metadata": {},
   "outputs": [],
   "source": [
    "del d1[10]"
   ]
  },
  {
   "cell_type": "code",
   "execution_count": 88,
   "metadata": {},
   "outputs": [
    {
     "name": "stdout",
     "output_type": "stream",
     "text": [
      "{7: 'Dhoni', 18: ['faf', 'Kohli']}\n"
     ]
    }
   ],
   "source": [
    "print(d1)\n",
    "#day4 Ends"
   ]
  },
  {
   "cell_type": "code",
   "execution_count": null,
   "metadata": {},
   "outputs": [],
   "source": []
  }
 ],
 "metadata": {
  "kernelspec": {
   "display_name": "Python 3",
   "language": "python",
   "name": "python3"
  },
  "language_info": {
   "codemirror_mode": {
    "name": "ipython",
    "version": 3
   },
   "file_extension": ".py",
   "mimetype": "text/x-python",
   "name": "python",
   "nbconvert_exporter": "python",
   "pygments_lexer": "ipython3",
   "version": "3.7.6"
  }
 },
 "nbformat": 4,
 "nbformat_minor": 4
}
