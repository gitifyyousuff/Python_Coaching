{
 "cells": [
  {
   "cell_type": "code",
   "execution_count": 1,
   "metadata": {},
   "outputs": [
    {
     "name": "stdout",
     "output_type": "stream",
     "text": [
      "i\n",
      "     June 2021\n",
      "Mo Tu We Th Fr Sa Su\n",
      "    1  2  3  4  5  6\n",
      " 7  8  9 10 11 12 13\n",
      "14 15 16 17 18 19 20\n",
      "21 22 23 24 25 26 27\n",
      "28 29 30\n",
      "\n",
      "2021-06-21 12:58:27.603118\n"
     ]
    }
   ],
   "source": [
    "#Day 5 Starts\n",
    "#Import function(random,calender)\n",
    "import random\n",
    "\n",
    "nm = 'Dhoni'\n",
    "\n",
    "print(random.choice(nm))\n",
    "\n",
    "import calendar\n",
    "\n",
    "cal = calendar.month(2021,6)\n",
    "print(cal)\n",
    "\n",
    "\n",
    "from datetime import datetime\n",
    "n = datetime.now()\n",
    "print(n)\n",
    "\n",
    "\n",
    "\n"
   ]
  },
  {
   "cell_type": "code",
   "execution_count": null,
   "metadata": {},
   "outputs": [],
   "source": [
    "#To inspect in module\n",
    "import inspect\n",
    "\n",
    "print(inspect.getsource(random))"
   ]
  },
  {
   "cell_type": "code",
   "execution_count": 4,
   "metadata": {},
   "outputs": [
    {
     "name": "stdout",
     "output_type": "stream",
     "text": [
      "Please enter your age: i\n",
      "Please enter number\n",
      "Task Done\n"
     ]
    }
   ],
   "source": [
    "#Exception Handling\n",
    "age  =  input('Please enter your age: ')\n",
    "try:\n",
    "    age_num = int(age)\n",
    "    print(\"Age is\" ,age_num)\n",
    "except Exception as exc :\n",
    "    print(\"Please enter number\")\n",
    "    \n",
    "print('Task Done') \n",
    "\n",
    "\n",
    "    \n"
   ]
  },
  {
   "cell_type": "code",
   "execution_count": 3,
   "metadata": {},
   "outputs": [
    {
     "name": "stdout",
     "output_type": "stream",
     "text": [
      "Dont put string\n"
     ]
    }
   ],
   "source": [
    "try:\n",
    "    num1 = 9\n",
    "    num2 = \"eg\"\n",
    "    print(num1/num2)\n",
    "except TypeError as t:\n",
    "    print('Dont put string')\n",
    "except Exception as ex:\n",
    "    print(ex)"
   ]
  },
  {
   "cell_type": "code",
   "execution_count": 5,
   "metadata": {},
   "outputs": [
    {
     "name": "stdout",
     "output_type": "stream",
     "text": [
      "Type Error\n",
      "Done with the task\n"
     ]
    }
   ],
   "source": [
    "#zero division\n",
    "try:\n",
    "    num1 = 9\n",
    "    num2 = \"s\"\n",
    "    res =  num1/num2\n",
    "\n",
    "except ZeroDivisionError as z:\n",
    "    print('can not divide by 0')\n",
    "except TypeError as t:\n",
    "    print('Type Error')\n",
    "except valueError as v:\n",
    "    print('value is wrong')\n",
    "except Exception as ex:\n",
    "    print('Something wrong')\n",
    "\n",
    "\n",
    "else:\n",
    "    print(res)\n",
    "finally:\n",
    "    print('Done with the task')\n"
   ]
  },
  {
   "cell_type": "code",
   "execution_count": 1,
   "metadata": {},
   "outputs": [],
   "source": [
    "#Create customized or own exception\n",
    "class Error(Exception):\n",
    "    pass\n",
    "class vote_ex(Error):\n",
    "    pass"
   ]
  },
  {
   "cell_type": "code",
   "execution_count": 2,
   "metadata": {},
   "outputs": [
    {
     "name": "stdout",
     "output_type": "stream",
     "text": [
      "Minimum age to vote is 18\n"
     ]
    }
   ],
   "source": [
    "#raising the cutomized exception\n",
    "mahi = 12\n",
    "try:\n",
    "    if(mahi>18):\n",
    "        print('vote')\n",
    "    else:\n",
    "        raise vote_ex\n",
    "except vote_ex as e:\n",
    "    print(\"Minimum age to vote is 18\")"
   ]
  },
  {
   "cell_type": "code",
   "execution_count": 9,
   "metadata": {},
   "outputs": [
    {
     "name": "stdout",
     "output_type": "stream",
     "text": [
      "[1, 3, 5, 7, 9, 11, 13, 15, 17, 19]\n"
     ]
    }
   ],
   "source": [
    "#List comprehension\n",
    "#pblm : i want to pick only odd number from 1 to 20...list-->[1,3,5..,19]\n",
    "n1 =  range(1,20)\n",
    "l1 = []\n",
    "for n in n1:\n",
    "    if(n%2==1):\n",
    "        l1.append(n)\n",
    "print(l1)\n"
   ]
  },
  {
   "cell_type": "code",
   "execution_count": 10,
   "metadata": {},
   "outputs": [
    {
     "name": "stdout",
     "output_type": "stream",
     "text": [
      "[1, 3, 5, 7, 9, 11, 13, 15, 17, 19]\n"
     ]
    }
   ],
   "source": [
    "n1 =  range(1,20)\n",
    "l2 = [n for n in n1 if n%2 ==1]\n",
    "print(l2)\n",
    "\n",
    "#Day5 Ends"
   ]
  },
  {
   "cell_type": "code",
   "execution_count": 12,
   "metadata": {},
   "outputs": [
    {
     "data": {
      "text/plain": [
       "[1, 2, 3]"
      ]
     },
     "execution_count": 12,
     "metadata": {},
     "output_type": "execute_result"
    }
   ],
   "source": [
    "#Day6 starts\n",
    "#Functions without parameter\n",
    "def lst():\n",
    "    l = [1,2,3]\n",
    "    return l\n",
    "lst()   \n"
   ]
  },
  {
   "cell_type": "code",
   "execution_count": 13,
   "metadata": {},
   "outputs": [
    {
     "name": "stdout",
     "output_type": "stream",
     "text": [
      "36\n"
     ]
    }
   ],
   "source": [
    "#Functions with parameter\n",
    "def sq(x):\n",
    "    l = [1,2,3]\n",
    "    squ = x*x\n",
    "    print(squ)\n",
    "sq(6)"
   ]
  },
  {
   "cell_type": "code",
   "execution_count": 17,
   "metadata": {},
   "outputs": [
    {
     "name": "stdout",
     "output_type": "stream",
     "text": [
      "64\n",
      "<class 'NoneType'>\n"
     ]
    }
   ],
   "source": [
    "#Functions without return\n",
    "def sq(x):\n",
    "    l = [1,2,3]\n",
    "    squ = x*x\n",
    "    print(squ)\n",
    "n = sq(8)\n",
    "print(type(n))"
   ]
  },
  {
   "cell_type": "code",
   "execution_count": 20,
   "metadata": {},
   "outputs": [
    {
     "name": "stdout",
     "output_type": "stream",
     "text": [
      "100\n",
      "<class 'int'>\n"
     ]
    }
   ],
   "source": [
    "#Functions without return\n",
    "def sq(x):\n",
    "    l = [1,2,3]\n",
    "    squ = x*x\n",
    "    return squ\n",
    "r = sq(10)\n",
    "print(r)\n",
    "print(type(r))"
   ]
  },
  {
   "cell_type": "code",
   "execution_count": 21,
   "metadata": {},
   "outputs": [
    {
     "name": "stdout",
     "output_type": "stream",
     "text": [
      "45\n"
     ]
    }
   ],
   "source": [
    "# import ownModule\n",
    "#ownModule and anotherModule are available in same folder\n",
    "from ownModule import *\n",
    "from anotherModule import *\n",
    "\n",
    "\n",
    "# print(ownModule.sq(5))\n",
    "print(sq(3))\n",
    "# print(cub(4))"
   ]
  },
  {
   "cell_type": "code",
   "execution_count": 22,
   "metadata": {},
   "outputs": [
    {
     "name": "stdout",
     "output_type": "stream",
     "text": [
      "25\n"
     ]
    }
   ],
   "source": [
    "from ipynb.fs.full.test_calling import sq #test_calling file available in same folder\n",
    "t = sq()\n",
    "print(t)"
   ]
  },
  {
   "cell_type": "code",
   "execution_count": 23,
   "metadata": {},
   "outputs": [
    {
     "name": "stdout",
     "output_type": "stream",
     "text": [
      "20\n"
     ]
    }
   ],
   "source": [
    "#lambda\n",
    "res = lambda x,y :x*y\n",
    "print(res(4,5))"
   ]
  },
  {
   "cell_type": "code",
   "execution_count": 24,
   "metadata": {},
   "outputs": [],
   "source": [
    "#scope \n",
    "s = 8\n",
    "\n",
    "def tst():\n",
    "    s = 10\n",
    "    return s\n",
    "\n"
   ]
  },
  {
   "cell_type": "code",
   "execution_count": 25,
   "metadata": {},
   "outputs": [
    {
     "name": "stdout",
     "output_type": "stream",
     "text": [
      "8\n"
     ]
    }
   ],
   "source": [
    "# t = tst()\n",
    "# print(t)\n",
    "print(s)"
   ]
  },
  {
   "cell_type": "code",
   "execution_count": 26,
   "metadata": {},
   "outputs": [],
   "source": [
    "import random\n",
    "def ran():\n",
    "    ch = random.choice(\"AGS\")\n",
    "    return ch\n",
    "def ran2():\n",
    "    ch2 = random.choice(\"SDG\")\n",
    "    return ch2"
   ]
  },
  {
   "cell_type": "code",
   "execution_count": 27,
   "metadata": {},
   "outputs": [
    {
     "data": {
      "text/plain": [
       "'S'"
      ]
     },
     "execution_count": 27,
     "metadata": {},
     "output_type": "execute_result"
    }
   ],
   "source": [
    "ran2()"
   ]
  },
  {
   "cell_type": "code",
   "execution_count": null,
   "metadata": {},
   "outputs": [],
   "source": []
  }
 ],
 "metadata": {
  "kernelspec": {
   "display_name": "Python 3",
   "language": "python",
   "name": "python3"
  },
  "language_info": {
   "codemirror_mode": {
    "name": "ipython",
    "version": 3
   },
   "file_extension": ".py",
   "mimetype": "text/x-python",
   "name": "python",
   "nbconvert_exporter": "python",
   "pygments_lexer": "ipython3",
   "version": "3.7.6"
  }
 },
 "nbformat": 4,
 "nbformat_minor": 4
}
