{
 "cells": [
  {
   "cell_type": "code",
   "execution_count": null,
   "metadata": {},
   "outputs": [],
   "source": [
    "#Day 1 starts\n",
    "print('Welcome to code community')"
   ]
  },
  {
   "cell_type": "code",
   "execution_count": null,
   "metadata": {},
   "outputs": [],
   "source": [
    "#variable name is overridable \n",
    "name = 'Irfan'#variable\n",
    "name = \"Arun\" #variable #latest variable will be taken if same variable name declared \n",
    "print(name)"
   ]
  },
  {
   "cell_type": "code",
   "execution_count": null,
   "metadata": {},
   "outputs": [],
   "source": [
    "#accessing string and string is immutable \n",
    "name = 'Irfan'#string\n",
    "f_letter = name[0]\n",
    "u =name[-1]\n",
    "print(u)\n",
    "print(f_letter)\n",
    "#name[0] = 'y'#commented because it leads to error.. whn we try to change the things inside string"
   ]
  },
  {
   "cell_type": "code",
   "execution_count": null,
   "metadata": {},
   "outputs": [],
   "source": [
    "#variable declaration is case sensentive \n",
    "a = 'lowercase a'\n",
    "A = 'Uppercase A'\n",
    "print(a)\n",
    "print(A)\n"
   ]
  },
  {
   "cell_type": "code",
   "execution_count": null,
   "metadata": {},
   "outputs": [],
   "source": [
    "#Data type\n",
    "x = 10\n",
    "y = 'Test'\n",
    "z = 90.88\n",
    "a =  True\n",
    "b = 10\n",
    "c = 66\n",
    "t = 66\n",
    "print(type(x))\n",
    "print(type(y))\n",
    "print(type(z))\n",
    "print(type(a))\n",
    "            \n",
    "print(id(x))\n",
    "print(id(b))\n",
    "print(id(c))\n",
    "print(id(t))\n",
    "print(id(z))"
   ]
  },
  {
   "cell_type": "code",
   "execution_count": null,
   "metadata": {},
   "outputs": [],
   "source": [
    "#string and it's method\n",
    "sess_nm = 'codE chaiN'\n",
    "print(sess_nm.lower())\n",
    "print(sess_nm.upper())\n",
    "#etc.,"
   ]
  },
  {
   "cell_type": "code",
   "execution_count": null,
   "metadata": {},
   "outputs": [],
   "source": [
    "s1 = \"Arun \"\n",
    "s2 = \"Priya\"\n",
    "s3 = s1+s2\n",
    "print(s3)\n",
    "\n",
    "#string to string can be performed only '+' operator"
   ]
  },
  {
   "cell_type": "code",
   "execution_count": null,
   "metadata": {},
   "outputs": [],
   "source": [
    "s1= 'dhivya '\n",
    "s2 = 4\n",
    "s3 =  s1*s2\n",
    "print(\"name is \",s1,\"total\",s2)\n",
    "print(s3)\n",
    "#String with integer...it possible to have only '*'\n"
   ]
  },
  {
   "cell_type": "code",
   "execution_count": null,
   "metadata": {},
   "outputs": [],
   "source": [
    " #Assignment operator ('=')\n",
    "ram = 100\n",
    "print(ram)"
   ]
  },
  {
   "cell_type": "code",
   "execution_count": null,
   "metadata": {},
   "outputs": [],
   "source": [
    "#Arithmetic operator\n",
    "# +,-,*,\\,%,\\\\\n",
    "\n",
    "#addition\n",
    "thilak = 100\n",
    "manoj = 120\n",
    "total = thilak+manoj\n",
    "print(total)\n",
    "\n",
    "#subtraction \n",
    "a = manoj - thilak\n",
    "print(a)\n",
    "\n",
    "#Multiplication\n",
    "#one pen cost 5rs and box have 10 pens inside. what is the cost of 10 pens?\n",
    "pen = 5\n",
    "box = 10\n",
    "cost = pen * box\n",
    "print(cost)\n",
    "\n",
    "#Division\n",
    "x =800\n",
    "y = 10\n",
    "z = x/y\n",
    "print(z)\n",
    "\n",
    "#floor division(//)\n",
    "f = 37\n",
    "f = f//3\n",
    "print(f)\n",
    "\n",
    "#Modulus\n",
    "e = 21\n",
    "e = e % 4\n",
    "print(e)\n",
    "#Day 1 Ends"
   ]
  },
  {
   "cell_type": "code",
   "execution_count": null,
   "metadata": {},
   "outputs": [],
   "source": [
    "#Day2 Starts\n",
    "#unary operator\n",
    "salary = 10000\n",
    "salary *= 2\n",
    "print(salary)\n"
   ]
  },
  {
   "cell_type": "code",
   "execution_count": null,
   "metadata": {},
   "outputs": [],
   "source": [
    "#Relational operator(<,>,==,<=,>=,!=)\n",
    "#more num of books\n",
    "r = 20\n",
    "k = 20\n",
    "b = (r==k)\n",
    "print(b)\n"
   ]
  },
  {
   "cell_type": "code",
   "execution_count": 20,
   "metadata": {},
   "outputs": [
    {
     "name": "stdout",
     "output_type": "stream",
     "text": [
      "False\n",
      "False\n",
      "False\n",
      "True\n",
      "True\n"
     ]
    }
   ],
   "source": [
    "#Logical operator(and,or,not)\n",
    "\n",
    "#not operation \n",
    "b = True\n",
    "t = not b\n",
    "print(t)\n",
    "\n",
    "#and operation\n",
    "j = True\n",
    "k = False\n",
    "p = j and k\n",
    "print(p)\n",
    "\n",
    "#and operation with '&'\n",
    "j = True\n",
    "k = False\n",
    "p = j & k\n",
    "print(p)\n",
    "\n",
    "#or operation\n",
    "l = True\n",
    "m = False\n",
    "n = l or m\n",
    "print(n)\n",
    "\n",
    "#or operation with '|'\n",
    "l = True\n",
    "m = False\n",
    "n = l | m\n",
    "print(n)"
   ]
  },
  {
   "cell_type": "code",
   "execution_count": 21,
   "metadata": {},
   "outputs": [
    {
     "name": "stdout",
     "output_type": "stream",
     "text": [
      "20\n",
      "10\n"
     ]
    }
   ],
   "source": [
    "#swapping money solution1\n",
    "a = 10\n",
    "b = 20\n",
    "t = a\n",
    "a = b\n",
    "b = t\n",
    "print(a)\n",
    "print(b)"
   ]
  },
  {
   "cell_type": "code",
   "execution_count": 22,
   "metadata": {},
   "outputs": [
    {
     "name": "stdout",
     "output_type": "stream",
     "text": [
      "20 30\n"
     ]
    }
   ],
   "source": [
    "#swapping money solution2\n",
    "t=30\n",
    "m=20\n",
    "t,m = m,t\n",
    "print(t,m)"
   ]
  },
  {
   "cell_type": "code",
   "execution_count": 16,
   "metadata": {},
   "outputs": [
    {
     "name": "stdout",
     "output_type": "stream",
     "text": [
      "How many book do you have manoj?9\n",
      "How many book do you have bala?8\n",
      "Total books can be donated 17\n",
      "Experssion9+8\n",
      "17\n"
     ]
    }
   ],
   "source": [
    "#Getting I/P from User\n",
    "#pblm: Book Donation \n",
    "manoj = int(input('How many book do you have manoj?'))\n",
    "bala = int(input ('How many book do you have bala?'))\n",
    "print(\"Total books can be donated\",manoj+bala)\n",
    "a = eval(input('Experssion'))\n",
    "print(a)\n"
   ]
  },
  {
   "cell_type": "code",
   "execution_count": 15,
   "metadata": {},
   "outputs": [
    {
     "name": "stdout",
     "output_type": "stream",
     "text": [
      "own sponser\n"
     ]
    }
   ],
   "source": [
    "#conditions(if,nestedif,elif,else)\n",
    "#pblm:who is having 1000rs for tonight dinner\n",
    "s = 200\n",
    "k = 900\n",
    "d = 800\n",
    "if(s==1000):\n",
    "    print(\"sachin need to sponser for dinner\")\n",
    "elif(k==1000):\n",
    "    print(\"kohli need to sponser for dinner\")\n",
    "elif(d==1000):\n",
    "    print(\"dhoni  need to sponser for dinner\")\n",
    "else:\n",
    "    print(\"own sponser\")\n",
    "\n",
    "#Day2 Ends   "
   ]
  },
  {
   "cell_type": "code",
   "execution_count": null,
   "metadata": {},
   "outputs": [],
   "source": [
    "#pblm:climate decider?\n",
    "#list"
   ]
  }
 ],
 "metadata": {
  "kernelspec": {
   "display_name": "Python 3",
   "language": "python",
   "name": "python3"
  },
  "language_info": {
   "codemirror_mode": {
    "name": "ipython",
    "version": 3
   },
   "file_extension": ".py",
   "mimetype": "text/x-python",
   "name": "python",
   "nbconvert_exporter": "python",
   "pygments_lexer": "ipython3",
   "version": "3.7.6"
  }
 },
 "nbformat": 4,
 "nbformat_minor": 4
}
